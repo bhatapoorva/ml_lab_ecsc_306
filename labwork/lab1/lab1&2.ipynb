{
 "cells": [
  {
   "cell_type": "code",
   "execution_count": null,
   "metadata": {},
   "outputs": [],
   "source": []
  },
  {
   "cell_type": "code",
   "execution_count": 2,
   "metadata": {
    "collapsed": true
   },
   "outputs": [],
   "source": [
    "import numpy as np\n"
   ]
  },
  {
   "cell_type": "code",
   "execution_count": null,
   "metadata": {},
   "outputs": [],
   "source": []
  },
  {
   "cell_type": "code",
   "execution_count": 4,
   "metadata": {
    "collapsed": true
   },
   "outputs": [],
   "source": [
    "import tensorflow as tf"
   ]
  },
  {
   "cell_type": "code",
   "execution_count": null,
   "metadata": {},
   "outputs": [],
   "source": []
  },
  {
   "cell_type": "code",
   "execution_count": 30,
   "metadata": {},
   "outputs": [
    {
     "name": "stdout",
     "output_type": "stream",
     "text": [
      "3.075\n",
      "6.85\n",
      "[[-1.57499981 -0.4749999   0.62500024  1.42500019]]\n",
      "[[-1.05000019 -0.25000048  0.14999962  1.14999962]]\n",
      "[[ 2.48062444  0.2256249   0.3906253   2.03062558]]\n",
      "5.1275\n",
      "[[ 1.65375006  0.1187502   0.0937498   1.63874972]]\n",
      "3.505\n"
     ]
    }
   ],
   "source": [
    "#lab2 part A\n",
    "import tensorflow as tf\n",
    "import tensorflow as tf\n",
    "var_x=tf.constant([1.5,2.6,3.7,4.5],shape=[1,4],name='x')\n",
    "var_y=tf.constant([5.8,6.6,7.0,8.0],shape=[1,4],name='y')\n",
    "with tf.name_scope(\"mean\"):\n",
    "    with tf.name_scope(\"mean_x_y\"):\n",
    "        var_x1=tf.reduce_mean(var_x)\n",
    "        var_y1=tf.reduce_mean(var_y)\n",
    "        sess=tf.Session()\n",
    "    print(sess.run(var_x1))\n",
    "    print(sess.run(var_y1))\n",
    "with tf.name_scope(\"variance\"):\n",
    "    with tf.name_scope(\"scope_sub1\"):\n",
    "        a=tf.subtract(var_x,var_x1)\n",
    "        sess1=tf.Session()\n",
    "    print(sess1.run(a))\n",
    "    with tf.name_scope(\"scope_sub2\"):\n",
    "        b=tf.subtract(var_y,var_y1)\n",
    "        sess2=tf.Session()\n",
    "    print(sess2.run(b))\n",
    "    with tf.name_scope(\"scope_square\"):\n",
    "        a1=tf.multiply(a,a)\n",
    "        sess3=tf.Session()\n",
    "    print(sess3.run(a1))\n",
    "    with tf.name_scope(\"scope_summation\"):\n",
    "        var=tf.reduce_sum(a1)\n",
    "        sess4=tf.Session()\n",
    "    print(sess4.run(var))\n",
    "with tf.name_scope(\"covariance\"):\n",
    "    with tf.name_scope(\"multiplication\"):\n",
    "        mul1=tf.multiply(a,b)\n",
    "        sess5=tf.Session()\n",
    "    print(sess5.run(mul1))\n",
    "    with tf.name_scope(\"scope_summation2\"):\n",
    "        covar=tf.reduce_sum(mul1)\n",
    "        sess6=tf.Session()\n",
    "    print(sess6.run(covar))"
   ]
  },
  {
   "cell_type": "code",
   "execution_count": null,
   "metadata": {},
   "outputs": [],
   "source": [
    "\n",
    "\n",
    "   \n",
    "\n"
   ]
  },
  {
   "cell_type": "code",
   "execution_count": 33,
   "metadata": {},
   "outputs": [
    {
     "name": "stdout",
     "output_type": "stream",
     "text": [
      "1\n"
     ]
    }
   ],
   "source": [
    "#lab1 assignment question 1\n",
    "a=6\n",
    "b=5\n",
    "\n",
    "\n",
    "with tf.name_scope(\"lab1_assgn1\"):\n",
    "    with tf.name_scope(\"Scope_A\"):\n",
    "        var_x = tf.multiply(a, a)\n",
    "        var_y = tf.multiply(b, b)\n",
    "    with tf.name_scope(\"Scope_B\"):\n",
    "        z = tf.multiply(2, a)\n",
    "        var_h = tf.multiply(z, b)\n",
    "\n",
    "with tf.name_scope(\"Scope_C\"):\n",
    "    var_d = tf.add(var_x, var_y)\n",
    "    var_s = tf.subtract(var_d, var_h)\n",
    "\n",
    "\n",
    "\n",
    "with tf.Session() as sess:\n",
    "    writer = tf.summary.FileWriter(\"/tmp/tboard/output22\", sess.graph)\n",
    "    print(sess.run(s))\n",
    "    writer.close()"
   ]
  },
  {
   "cell_type": "code",
   "execution_count": null,
   "metadata": {},
   "outputs": [],
   "source": []
  },
  {
   "cell_type": "code",
   "execution_count": null,
   "metadata": {},
   "outputs": [],
   "source": []
  },
  {
   "cell_type": "code",
   "execution_count": 31,
   "metadata": {},
   "outputs": [
    {
     "name": "stdout",
     "output_type": "stream",
     "text": [
      "91\n"
     ]
    }
   ],
   "source": [
    "#lab 1 assignment2\n",
    "variable1=tf.constant(3)\n",
    "variable2=tf.constant(4)\n",
    "with tf.name_scope(\"ADD\"):\n",
    "    variable3=tf.add(variable1,variable2)\n",
    "    with tf.name_scope(\"multiply\"):\n",
    "        variable4=tf.multiply(variable1,variable1)\n",
    "        variable5=tf.multiply(variable2,variable2)\n",
    "        variable6=tf.multiply(variable1,variable2)\n",
    "        with tf.name_scope(\"equation\"):\n",
    "            variable7=variable4+variable5-variable6\n",
    "            variable8=tf.multiply(variable3,variable7)\n",
    "sess=tf.Session()\n",
    "writer = tf.summary.FileWriter(\"/tmp/tboard/output6\", sess.graph)\n",
    "print(sess.run(variable8))\n"
   ]
  },
  {
   "cell_type": "code",
   "execution_count": null,
   "metadata": {
    "collapsed": true
   },
   "outputs": [],
   "source": []
  }
 ],
 "metadata": {
  "kernelspec": {
   "display_name": "Python 3",
   "language": "python",
   "name": "python3"
  },
  "language_info": {
   "codemirror_mode": {
    "name": "ipython",
    "version": 3
   },
   "file_extension": ".py",
   "mimetype": "text/x-python",
   "name": "python",
   "nbconvert_exporter": "python",
   "pygments_lexer": "ipython3",
   "version": "3.5.3"
  }
 },
 "nbformat": 4,
 "nbformat_minor": 2
}
