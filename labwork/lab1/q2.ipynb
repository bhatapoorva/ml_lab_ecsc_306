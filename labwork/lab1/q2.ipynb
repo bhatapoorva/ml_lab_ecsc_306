{
 "cells": [
  {
   "cell_type": "code",
   "execution_count": 1,
   "metadata": {
    "collapsed": true
   },
   "outputs": [],
   "source": [
    "import tensorflow as tf\n"
   ]
  },
  {
   "cell_type": "code",
   "execution_count": 6,
   "metadata": {},
   "outputs": [
    {
     "name": "stdout",
     "output_type": "stream",
     "text": [
      "91\n"
     ]
    }
   ],
   "source": [
    "x1=tf.constant(4)\n",
    "x2=tf.constant(3)\n",
    "x3=tf.add(x1,x2)\n",
    "x4=tf.square(x1)\n",
    "x5=tf.multiply(x1,x2)\n",
    "x6=tf.square(x2)\n",
    "x7=tf.subtract(x4,x5)\n",
    "x8=tf.add(x7,x6)\n",
    "x9=tf.multiply(x3,x8)\n",
    "sess=tf.Session()\n",
    "print(sess.run(x9))\n",
    "writer = tf.summary.FileWriter(\"/tmp/tboard/a2\", sess.graph)"
   ]
  },
  {
   "cell_type": "code",
   "execution_count": null,
   "metadata": {
    "collapsed": true
   },
   "outputs": [],
   "source": []
  }
 ],
 "metadata": {
  "kernelspec": {
   "display_name": "Python 3",
   "language": "python",
   "name": "python3"
  },
  "language_info": {
   "codemirror_mode": {
    "name": "ipython",
    "version": 3
   },
   "file_extension": ".py",
   "mimetype": "text/x-python",
   "name": "python",
   "nbconvert_exporter": "python",
   "pygments_lexer": "ipython3",
   "version": "3.6.1"
  }
 },
 "nbformat": 4,
 "nbformat_minor": 2
}
